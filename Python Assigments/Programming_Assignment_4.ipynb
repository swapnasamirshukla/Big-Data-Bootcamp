{
  "cells": [
    {
      "cell_type": "markdown",
      "id": "20cb4340",
      "metadata": {
        "id": "20cb4340"
      },
      "source": [
        "## Programming Assignment_4\n",
        "----------------"
      ]
    },
    {
      "cell_type": "markdown",
      "id": "4fdb6695",
      "metadata": {
        "id": "4fdb6695"
      },
      "source": [
        "### 1. Write a Python Program to Find the Factorial of a Number?\n",
        "##### Sol."
      ]
    },
    {
      "cell_type": "code",
      "execution_count": null,
      "id": "0e5e7ce2",
      "metadata": {
        "id": "0e5e7ce2",
        "outputId": "da977993-ef91-406a-abf1-dfed6b0b7cc0"
      },
      "outputs": [
        {
          "name": "stdout",
          "output_type": "stream",
          "text": [
            "Enter a number: 5\n",
            "\n",
            "Factorial of 5: 120\n"
          ]
        }
      ],
      "source": [
        "num = int(input(\"Enter a number: \"))\n",
        "\n",
        "fact = 1\n",
        "for i in range(num, 0, -1):\n",
        "    fact = fact*i\n",
        "\n",
        "print(\"\\nFactorial of {}: {}\".format(num, fact))"
      ]
    },
    {
      "cell_type": "markdown",
      "id": "e6beef62",
      "metadata": {
        "id": "e6beef62"
      },
      "source": [
        "### 2. Write a Python Program to Display the multiplication Table?\n",
        "##### Sol."
      ]
    },
    {
      "cell_type": "code",
      "execution_count": null,
      "id": "eba74c90",
      "metadata": {
        "id": "eba74c90",
        "outputId": "d5bdd62a-c050-4cac-825d-712632c8efa6"
      },
      "outputs": [
        {
          "name": "stdout",
          "output_type": "stream",
          "text": [
            "Enter a number: 7\n",
            "7 x 1 = 7\n",
            "7 x 2 = 14\n",
            "7 x 3 = 21\n",
            "7 x 4 = 28\n",
            "7 x 5 = 35\n",
            "7 x 6 = 42\n",
            "7 x 7 = 49\n",
            "7 x 8 = 56\n",
            "7 x 9 = 63\n",
            "7 x 10 = 70\n"
          ]
        }
      ],
      "source": [
        "num = int(input(\"Enter a number: \"))\n",
        "\n",
        "for i in range(1, 11):\n",
        "    print(\"{} x {} = {}\".format(num, i, num*i))"
      ]
    },
    {
      "cell_type": "markdown",
      "id": "7de7eba5",
      "metadata": {
        "id": "7de7eba5"
      },
      "source": [
        "### 3. Write a Python Program to Print the Fibonacci sequence?\n",
        "##### Sol."
      ]
    },
    {
      "cell_type": "code",
      "execution_count": null,
      "id": "14b8e06e",
      "metadata": {
        "id": "14b8e06e",
        "outputId": "5d9b9ee8-03f1-444b-ac3f-56b199837103"
      },
      "outputs": [
        {
          "name": "stdout",
          "output_type": "stream",
          "text": [
            "Enter a length: 11\n",
            "0 1 1 2 3 5 8 13 21 34 55 "
          ]
        }
      ],
      "source": [
        "fibo_length = int(input(\"Enter a length: \"))\n",
        "\n",
        "a = 0\n",
        "b = 1\n",
        "print(a, end = ' ')\n",
        "print(b, end = ' ')\n",
        "while(fibo_length-2 > 0):\n",
        "    nt = a + b\n",
        "    print(nt, end = ' ')\n",
        "    a = b\n",
        "    b = nt\n",
        "\n",
        "    fibo_length -= 1"
      ]
    },
    {
      "cell_type": "markdown",
      "id": "0446442e",
      "metadata": {
        "id": "0446442e"
      },
      "source": [
        "### 4. Write a Python Program to Check Armstrong Number?\n",
        "##### Sol."
      ]
    },
    {
      "cell_type": "code",
      "execution_count": null,
      "id": "dc4d694d",
      "metadata": {
        "id": "dc4d694d"
      },
      "outputs": [],
      "source": [
        "import math"
      ]
    },
    {
      "cell_type": "code",
      "execution_count": null,
      "id": "8275da72",
      "metadata": {
        "id": "8275da72"
      },
      "outputs": [],
      "source": [
        "def fibo_check(num):\n",
        "    l = len(str(num))  ## l = number of digits of number\n",
        "    sum1 = 0\n",
        "    temp_num = num\n",
        "    while(num > 0):\n",
        "        d = num % 10\n",
        "        sum1 += int(math.pow(d, l))\n",
        "        num = num // 10\n",
        "\n",
        "    if(sum1 == int(temp_num)):\n",
        "        return 1\n",
        "    else:\n",
        "        return 0"
      ]
    },
    {
      "cell_type": "code",
      "execution_count": null,
      "id": "da8cea05",
      "metadata": {
        "id": "da8cea05",
        "outputId": "33bdd68b-addc-4be8-f4ef-3253c551c71c"
      },
      "outputs": [
        {
          "name": "stdout",
          "output_type": "stream",
          "text": [
            "Enter a number: 153\n",
            "153 is an armstrong number\n"
          ]
        }
      ],
      "source": [
        "num = int(input(\"Enter a number: \"))\n",
        "\n",
        "if(fibo_check(num)):\n",
        "    print(\"{} is an armstrong number\".format(num))\n",
        "else:\n",
        "    print(\"{} is not an armstrong number\".format(num))"
      ]
    },
    {
      "cell_type": "code",
      "execution_count": null,
      "id": "ab5dcfe7",
      "metadata": {
        "id": "ab5dcfe7",
        "outputId": "ad5a5944-5561-4457-e859-6e2ae4597976"
      },
      "outputs": [
        {
          "name": "stdout",
          "output_type": "stream",
          "text": [
            "Enter a number: 1221\n",
            "1221 is not an armstrong number\n"
          ]
        }
      ],
      "source": [
        "num = int(input(\"Enter a number: \"))\n",
        "\n",
        "if(fibo_check(num)):\n",
        "    print(\"{} is an armstrong number\".format(num))\n",
        "else:\n",
        "    print(\"{} is not an armstrong number\".format(num))"
      ]
    },
    {
      "cell_type": "markdown",
      "id": "a6f9adfe",
      "metadata": {
        "id": "a6f9adfe"
      },
      "source": [
        "### 5. Write a Python Program to Find Armstrong Number in an Interval?\n",
        "##### Sol."
      ]
    },
    {
      "cell_type": "code",
      "execution_count": null,
      "id": "0c4aa2f5",
      "metadata": {
        "id": "0c4aa2f5",
        "outputId": "b900e341-f7de-4702-9033-b5e2e1dedc3f"
      },
      "outputs": [
        {
          "name": "stdout",
          "output_type": "stream",
          "text": [
            "Enter the lower value of range: 100\n",
            "Enter the higher value of range: 1500\n",
            "\n",
            "From 100 to 1500 following are the Armstrong Number:\n",
            "153 370 371 407 "
          ]
        }
      ],
      "source": [
        "low = int(input(\"Enter the lower value of range: \"))\n",
        "high = int(input(\"Enter the higher value of range: \"))\n",
        "\n",
        "print(\"\\nFrom {} to {} following are the Armstrong Number:\".format(low, high), end='\\n')\n",
        "for i in range(low, high+1):\n",
        "\n",
        "    if(fibo_check(i)):\n",
        "        print(i, end = ' ')"
      ]
    },
    {
      "cell_type": "markdown",
      "id": "157cad60",
      "metadata": {
        "id": "157cad60"
      },
      "source": [
        "### 6. Write a Python Program to Find the Sum of Natural Numbers?\n",
        "##### Sol."
      ]
    },
    {
      "cell_type": "code",
      "execution_count": null,
      "id": "aa7cf139",
      "metadata": {
        "id": "aa7cf139",
        "outputId": "0a349830-e602-45c9-e7f5-2c473838dc1c"
      },
      "outputs": [
        {
          "name": "stdout",
          "output_type": "stream",
          "text": [
            "Enter a positive number: 100\n",
            "Sum of 100 natural number is 5050\n"
          ]
        }
      ],
      "source": [
        "num = int(input(\"Enter a positive number: \"))\n",
        "\n",
        "total_sum = 0\n",
        "for i in range(1, num+1):\n",
        "    total_sum += i\n",
        "\n",
        "print(\"Sum of {} natural number is {}\".format(num, total_sum))"
      ]
    },
    {
      "cell_type": "code",
      "execution_count": null,
      "id": "333c15da",
      "metadata": {
        "id": "333c15da"
      },
      "outputs": [],
      "source": []
    }
  ],
  "metadata": {
    "kernelspec": {
      "display_name": "Python 3 (ipykernel)",
      "language": "python",
      "name": "python3"
    },
    "language_info": {
      "codemirror_mode": {
        "name": "ipython",
        "version": 3
      },
      "file_extension": ".py",
      "mimetype": "text/x-python",
      "name": "python",
      "nbconvert_exporter": "python",
      "pygments_lexer": "ipython3",
      "version": "3.9.7"
    },
    "colab": {
      "provenance": []
    }
  },
  "nbformat": 4,
  "nbformat_minor": 5
}