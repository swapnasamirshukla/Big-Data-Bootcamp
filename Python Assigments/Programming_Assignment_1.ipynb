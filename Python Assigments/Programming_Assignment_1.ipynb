{
  "cells": [
    {
      "cell_type": "markdown",
      "id": "637b47a5",
      "metadata": {
        "id": "637b47a5"
      },
      "source": [
        "## Programming Assignment_1\n",
        "-------------"
      ]
    },
    {
      "cell_type": "markdown",
      "id": "0c647dbe",
      "metadata": {
        "id": "0c647dbe"
      },
      "source": [
        "### 1. Write a Python program to print \"Hello Python\"?\n",
        "##### Sol:"
      ]
    },
    {
      "cell_type": "code",
      "execution_count": null,
      "id": "732cbadd",
      "metadata": {
        "id": "732cbadd",
        "outputId": "7ee8364a-775d-47ab-e1f9-0ebfd5771d6e"
      },
      "outputs": [
        {
          "name": "stdout",
          "output_type": "stream",
          "text": [
            "Hello Python\n"
          ]
        }
      ],
      "source": [
        "print(\"Hello Python\")"
      ]
    },
    {
      "cell_type": "markdown",
      "id": "fc18a6cd",
      "metadata": {
        "id": "fc18a6cd"
      },
      "source": [
        "### 2. Write a Python program to do arithmetical operations addition and division.?\n",
        "##### Sol:"
      ]
    },
    {
      "cell_type": "code",
      "execution_count": null,
      "id": "d5e81491",
      "metadata": {
        "id": "d5e81491",
        "outputId": "36a7d91d-659a-4dc4-ad6d-7161a793271a"
      },
      "outputs": [
        {
          "name": "stdout",
          "output_type": "stream",
          "text": [
            "12\n",
            "5.0\n"
          ]
        }
      ],
      "source": [
        "a = 10\n",
        "b = 2\n",
        "\n",
        "## Addition\n",
        "add = a + b\n",
        "## Division\n",
        "div = a/b\n",
        "\n",
        "print(add)\n",
        "print(div)"
      ]
    },
    {
      "cell_type": "markdown",
      "id": "af6e2429",
      "metadata": {
        "id": "af6e2429"
      },
      "source": [
        "### 3. Write a Python program to find the area of a triangle?\n",
        "##### Sol:"
      ]
    },
    {
      "cell_type": "code",
      "execution_count": null,
      "id": "d5d93846",
      "metadata": {
        "id": "d5d93846",
        "outputId": "4e12b20b-8380-4b4d-ced6-59adc2a2c40f"
      },
      "outputs": [
        {
          "name": "stdout",
          "output_type": "stream",
          "text": [
            "Area of triangle: 1250.0\n"
          ]
        }
      ],
      "source": [
        "height = 100\n",
        "base = 25\n",
        "\n",
        "area = height*base/2\n",
        "\n",
        "print(\"Area of triangle:\", area)"
      ]
    },
    {
      "cell_type": "markdown",
      "id": "b8140061",
      "metadata": {
        "id": "b8140061"
      },
      "source": [
        "### 4. Write a Python program to swap two variables?\n",
        "##### Sol:"
      ]
    },
    {
      "cell_type": "code",
      "execution_count": null,
      "id": "182608ba",
      "metadata": {
        "id": "182608ba",
        "outputId": "7a942aed-bfdc-4e1f-f944-aa169b7d2b9a"
      },
      "outputs": [
        {
          "name": "stdout",
          "output_type": "stream",
          "text": [
            "Before swap:\n",
            "var1 = 123 and var2 = 111\n",
            "\n",
            "After swap:\n",
            "var1 = 111 and var2 = 123\n"
          ]
        }
      ],
      "source": [
        "var1 = 123\n",
        "var2 = 111\n",
        "\n",
        "print('Before swap:\\nvar1 = {} and var2 = {}'.format(var1, var2))\n",
        "\n",
        "temp = var1\n",
        "var1 = var2\n",
        "var2 = temp\n",
        "print('\\nAfter swap:\\nvar1 = {} and var2 = {}'.format(var1, var2))"
      ]
    },
    {
      "cell_type": "markdown",
      "id": "3f8054c1",
      "metadata": {
        "id": "3f8054c1"
      },
      "source": [
        "### 5. Write a Python program to generate a random number?\n",
        "##### Sol:"
      ]
    },
    {
      "cell_type": "code",
      "execution_count": null,
      "id": "f1e76df9",
      "metadata": {
        "id": "f1e76df9",
        "outputId": "90511e3b-473c-4692-95dc-41ccc338319e"
      },
      "outputs": [
        {
          "name": "stdout",
          "output_type": "stream",
          "text": [
            "0.1903223934166154\n",
            "745\n"
          ]
        }
      ],
      "source": [
        "import random\n",
        "\n",
        "print(random.random())\n",
        "print(random.randint(1, 1000))"
      ]
    },
    {
      "cell_type": "code",
      "execution_count": null,
      "id": "3ab18c00",
      "metadata": {
        "id": "3ab18c00"
      },
      "outputs": [],
      "source": []
    }
  ],
  "metadata": {
    "kernelspec": {
      "display_name": "Python 3 (ipykernel)",
      "language": "python",
      "name": "python3"
    },
    "language_info": {
      "codemirror_mode": {
        "name": "ipython",
        "version": 3
      },
      "file_extension": ".py",
      "mimetype": "text/x-python",
      "name": "python",
      "nbconvert_exporter": "python",
      "pygments_lexer": "ipython3",
      "version": "3.9.7"
    },
    "colab": {
      "provenance": []
    }
  },
  "nbformat": 4,
  "nbformat_minor": 5
}