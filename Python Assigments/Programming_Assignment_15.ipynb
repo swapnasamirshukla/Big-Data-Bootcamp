{
  "cells": [
    {
      "cell_type": "markdown",
      "id": "7df6e6a0",
      "metadata": {
        "id": "7df6e6a0"
      },
      "source": [
        "## Python Basic Programming Assignment - 15\n",
        "-------------------"
      ]
    },
    {
      "cell_type": "markdown",
      "id": "de299c62",
      "metadata": {
        "id": "de299c62"
      },
      "source": [
        "### 1. Please write a program using generator to print the numbers which can be divisible by 5 and 7 between 0 and n in comma separated form while n is input by console."
      ]
    },
    {
      "cell_type": "code",
      "execution_count": null,
      "id": "a6c4d4fa",
      "metadata": {
        "id": "a6c4d4fa"
      },
      "outputs": [],
      "source": [
        "def task1(n):\n",
        "\n",
        "    for i in range(n+1):\n",
        "        if i % 5 == 0 and i % 7 == 0:\n",
        "            yield str(i)+' '"
      ]
    },
    {
      "cell_type": "code",
      "execution_count": null,
      "id": "1bac0017",
      "metadata": {
        "id": "1bac0017",
        "outputId": "63d74408-312f-4003-c425-7025d9a76bf4"
      },
      "outputs": [
        {
          "data": {
            "text/plain": [
              "<generator object task1 at 0x000001A94CD60430>"
            ]
          },
          "execution_count": 37,
          "metadata": {},
          "output_type": "execute_result"
        }
      ],
      "source": [
        "task1(100)"
      ]
    },
    {
      "cell_type": "code",
      "execution_count": null,
      "id": "afe2f6f5",
      "metadata": {
        "id": "afe2f6f5",
        "outputId": "31430a95-7c4c-41c7-b79e-1f91e8084c04"
      },
      "outputs": [
        {
          "name": "stdout",
          "output_type": "stream",
          "text": [
            "0 , 35 , 70 \n"
          ]
        }
      ],
      "source": [
        "print(', '.join([i for i in task1(100)]))"
      ]
    },
    {
      "cell_type": "markdown",
      "id": "c04aab80",
      "metadata": {
        "id": "c04aab80"
      },
      "source": [
        "--------------\n",
        "### 2. Please write a program using generator to print the even numbers between 0 and n in comma separated form while n is input by console."
      ]
    },
    {
      "cell_type": "code",
      "execution_count": null,
      "id": "d6733e1e",
      "metadata": {
        "id": "d6733e1e"
      },
      "outputs": [],
      "source": [
        "def task2(n):\n",
        "\n",
        "    for i in range(n+1):\n",
        "        if i % 2 == 0:\n",
        "            yield str(i)"
      ]
    },
    {
      "cell_type": "code",
      "execution_count": null,
      "id": "7b43651c",
      "metadata": {
        "id": "7b43651c",
        "outputId": "adcb6110-8062-4318-afa4-0ef84cf6127d"
      },
      "outputs": [
        {
          "name": "stdout",
          "output_type": "stream",
          "text": [
            "0, 2, 4, 6, 8, 10\n"
          ]
        }
      ],
      "source": [
        "print(', '.join([i for i in task2(10)]))"
      ]
    },
    {
      "cell_type": "markdown",
      "id": "35b72559",
      "metadata": {
        "id": "35b72559"
      },
      "source": [
        "---------------\n",
        "### 3. Please write a program using list comprehension to print the Fibonacci Sequence in comma separated form with a given n input by console."
      ]
    },
    {
      "cell_type": "code",
      "execution_count": null,
      "id": "1995d09b",
      "metadata": {
        "id": "1995d09b"
      },
      "outputs": [],
      "source": [
        "def fibo(n):\n",
        "    i = 0\n",
        "    j = 1\n",
        "    for k in range(n+1):\n",
        "        yield i\n",
        "        i,j = j, i+j"
      ]
    },
    {
      "cell_type": "code",
      "execution_count": null,
      "id": "d776fc43",
      "metadata": {
        "id": "d776fc43",
        "outputId": "0ad7ad65-8766-485f-a3d8-18eb2f7672b2"
      },
      "outputs": [
        {
          "name": "stdout",
          "output_type": "stream",
          "text": [
            "0,1,1,2,3,5,8,13\n"
          ]
        }
      ],
      "source": [
        "print(','.join([str(num) for num in fibo(7)]))"
      ]
    },
    {
      "cell_type": "markdown",
      "id": "dea0be0f",
      "metadata": {
        "id": "dea0be0f"
      },
      "source": [
        "----------------\n",
        "### 4. Assuming that we have some email addresses in the \"username@companyname.com\" format, please write program to print the user name of a given email address. Both user names and company names are composed of letters only."
      ]
    },
    {
      "cell_type": "code",
      "execution_count": null,
      "id": "b1fa5aa4",
      "metadata": {
        "id": "b1fa5aa4"
      },
      "outputs": [],
      "source": [
        "def username(email: str):\n",
        "    return email.split('@')[0]"
      ]
    },
    {
      "cell_type": "code",
      "execution_count": null,
      "id": "27ed8d0c",
      "metadata": {
        "id": "27ed8d0c",
        "outputId": "7dcd902a-21c2-49a9-86ed-3b83ca0f059f"
      },
      "outputs": [
        {
          "data": {
            "text/plain": [
              "'john'"
            ]
          },
          "execution_count": 49,
          "metadata": {},
          "output_type": "execute_result"
        }
      ],
      "source": [
        "username('john@google.com')"
      ]
    },
    {
      "cell_type": "markdown",
      "id": "2834c88f",
      "metadata": {
        "id": "2834c88f"
      },
      "source": [
        "--------------------\n",
        "### 5. Define a class named Shape and its subclass Square. The Square class has an init function which takes a length as argument. Both classes have a area function which can print the area of the shape where Shape's area is 0 by default."
      ]
    },
    {
      "cell_type": "code",
      "execution_count": null,
      "id": "a4b63b09",
      "metadata": {
        "id": "a4b63b09"
      },
      "outputs": [],
      "source": [
        "class Shape:\n",
        "    def __init__(self, length):\n",
        "        self.length = length\n",
        "\n",
        "    def area(self):\n",
        "        return 0\n",
        "\n",
        "class Square(Shape):\n",
        "    def area(self):\n",
        "        return self.length*self.length"
      ]
    },
    {
      "cell_type": "code",
      "execution_count": null,
      "id": "7c6fcfd2",
      "metadata": {
        "id": "7c6fcfd2",
        "outputId": "022be475-d944-475c-e03f-a9d63ab7b0d5"
      },
      "outputs": [
        {
          "data": {
            "text/plain": [
              "0"
            ]
          },
          "execution_count": 55,
          "metadata": {},
          "output_type": "execute_result"
        }
      ],
      "source": [
        "shape_obj = Shape(10)\n",
        "\n",
        "shape_obj.area()"
      ]
    },
    {
      "cell_type": "code",
      "execution_count": null,
      "id": "0de04f21",
      "metadata": {
        "id": "0de04f21",
        "outputId": "9b5ed90d-153c-4909-caf6-064b9ac39253"
      },
      "outputs": [
        {
          "data": {
            "text/plain": [
              "169"
            ]
          },
          "execution_count": 56,
          "metadata": {},
          "output_type": "execute_result"
        }
      ],
      "source": [
        "square_obj = Square(13)\n",
        "\n",
        "square_obj.area()"
      ]
    },
    {
      "cell_type": "code",
      "execution_count": null,
      "id": "5678c2b1",
      "metadata": {
        "id": "5678c2b1"
      },
      "outputs": [],
      "source": []
    }
  ],
  "metadata": {
    "kernelspec": {
      "display_name": "Python 3 (ipykernel)",
      "language": "python",
      "name": "python3"
    },
    "language_info": {
      "codemirror_mode": {
        "name": "ipython",
        "version": 3
      },
      "file_extension": ".py",
      "mimetype": "text/x-python",
      "name": "python",
      "nbconvert_exporter": "python",
      "pygments_lexer": "ipython3",
      "version": "3.9.7"
    },
    "colab": {
      "provenance": []
    }
  },
  "nbformat": 4,
  "nbformat_minor": 5
}