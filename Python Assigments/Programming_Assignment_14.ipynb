{
  "cells": [
    {
      "cell_type": "markdown",
      "id": "9bf47949",
      "metadata": {
        "id": "9bf47949"
      },
      "source": [
        "## Python Basic Programming Assignment - 14\n",
        "---------------------"
      ]
    },
    {
      "cell_type": "markdown",
      "id": "a8074819",
      "metadata": {
        "id": "a8074819"
      },
      "source": [
        "### 1. Define a class with a generator which can iterate the numbers, which are divisible by 7, between a given range 0 and n."
      ]
    },
    {
      "cell_type": "code",
      "execution_count": null,
      "id": "2ef28365",
      "metadata": {
        "id": "2ef28365"
      },
      "outputs": [],
      "source": [
        "class Task1:\n",
        "    def gen(self, n):\n",
        "        for i in range(n+1):\n",
        "            if i%7 == 0:\n",
        "                yield i"
      ]
    },
    {
      "cell_type": "code",
      "execution_count": null,
      "id": "a9a044e1",
      "metadata": {
        "id": "a9a044e1"
      },
      "outputs": [],
      "source": [
        "nums = Task1()"
      ]
    },
    {
      "cell_type": "code",
      "execution_count": null,
      "id": "b6980d15",
      "metadata": {
        "id": "b6980d15",
        "outputId": "79e028ec-1d07-4e63-b228-1ee0ca1d53ea"
      },
      "outputs": [
        {
          "data": {
            "text/plain": [
              "[0, 7, 14, 21, 28, 35, 42, 49, 56, 63, 70, 77, 84, 91, 98]"
            ]
          },
          "execution_count": 11,
          "metadata": {},
          "output_type": "execute_result"
        }
      ],
      "source": [
        "[i for i in nums.gen(100)]"
      ]
    },
    {
      "cell_type": "markdown",
      "id": "8127371b",
      "metadata": {
        "id": "8127371b"
      },
      "source": [
        "----------------\n",
        "### 2. Write a program to compute the frequency of the words from the input. The output should output after sorting the key alphanumerically."
      ]
    },
    {
      "cell_type": "code",
      "execution_count": null,
      "id": "556f9307",
      "metadata": {
        "id": "556f9307"
      },
      "outputs": [],
      "source": [
        "def task2(string: str):\n",
        "\n",
        "    string_list = string.split(' ')\n",
        "    out_dict = {}\n",
        "\n",
        "    for s in string_list:\n",
        "        if s in out_dict.keys():\n",
        "            out_dict[s] += 1\n",
        "        else:\n",
        "            out_dict[s] = 1\n",
        "\n",
        "    for k, v in sorted(out_dict.items()):\n",
        "        print(k, ':', v)"
      ]
    },
    {
      "cell_type": "code",
      "execution_count": null,
      "id": "65e9789c",
      "metadata": {
        "id": "65e9789c",
        "outputId": "1bbce57b-d849-447e-b553-13757d21caca"
      },
      "outputs": [
        {
          "name": "stdout",
          "output_type": "stream",
          "text": [
            "2 : 2\n",
            "3 : 1\n",
            "3? : 1\n",
            "New : 1\n",
            "Python : 5\n",
            "Read : 1\n",
            "and : 1\n",
            "between : 1\n",
            "choosing : 1\n",
            "or : 2\n",
            "to : 1\n"
          ]
        }
      ],
      "source": [
        "task2('New to Python or choosing between Python 2 and Python 3? Read Python 2 or Python 3')"
      ]
    },
    {
      "cell_type": "markdown",
      "id": "4e869c3c",
      "metadata": {
        "id": "4e869c3c"
      },
      "source": [
        "---------------\n",
        "### 3. Define a class Person and its two child classes: Male and Female. All classes have a method \"getGender\" which can print \"Male\" for Male class and \"Female\" for Female class."
      ]
    },
    {
      "cell_type": "code",
      "execution_count": null,
      "id": "fd095132",
      "metadata": {
        "id": "fd095132"
      },
      "outputs": [],
      "source": [
        "class Person:\n",
        "    def getGender(self):\n",
        "        pass\n",
        "\n",
        "class Male(Person):\n",
        "    def getGender(self):\n",
        "        print('Male')\n",
        "\n",
        "class Female(Person):\n",
        "    def getGender(self):\n",
        "        print('Female')"
      ]
    },
    {
      "cell_type": "code",
      "execution_count": null,
      "id": "32fef484",
      "metadata": {
        "id": "32fef484",
        "outputId": "80ae1826-6373-4791-b708-ca6a74400434"
      },
      "outputs": [
        {
          "name": "stdout",
          "output_type": "stream",
          "text": [
            "Male\n",
            "Female\n"
          ]
        }
      ],
      "source": [
        "male = Male()\n",
        "female= Female()\n",
        "male.getGender()\n",
        "female.getGender()"
      ]
    },
    {
      "cell_type": "markdown",
      "id": "58b5940f",
      "metadata": {
        "id": "58b5940f"
      },
      "source": [
        "-------------------\n",
        "### 4. Please write a program to generate all sentences where subject is in [\"I\", \"You\"] and verb is in ['Play', \"Love\"] and the object is in [\"Hockey\",\"Football\"]."
      ]
    },
    {
      "cell_type": "code",
      "execution_count": null,
      "id": "d8890f38",
      "metadata": {
        "id": "d8890f38",
        "outputId": "f9cc91b8-ecb3-4c2a-cf49-ea37c227b9c4"
      },
      "outputs": [
        {
          "name": "stdout",
          "output_type": "stream",
          "text": [
            "I Play Hockey\n",
            "I Play Football\n",
            "I Love Hockey\n",
            "I Love Football\n",
            "You Play Hockey\n",
            "You Play Football\n",
            "You Love Hockey\n",
            "You Love Football\n"
          ]
        }
      ],
      "source": [
        "subject=[\"I\", \"You\"]\n",
        "verb=[\"Play\", \"Love\"]\n",
        "obj=[\"Hockey\",\"Football\"]\n",
        "\n",
        "sentence_list = []\n",
        "\n",
        "for i in subject:\n",
        "    for j in verb:\n",
        "        for k in obj:\n",
        "            sentence_list.append(i + \" \" + j + \" \" + k)\n",
        "\n",
        "for sentence in sentence_list:\n",
        "    print(sentence)"
      ]
    },
    {
      "cell_type": "markdown",
      "id": "0ddf4f59",
      "metadata": {
        "id": "0ddf4f59"
      },
      "source": [
        "--------------\n",
        "### 5. Please write a program to compress and decompress the string \"hello world!hello world!hello world!hello world!\""
      ]
    },
    {
      "cell_type": "code",
      "execution_count": null,
      "id": "ea21574b",
      "metadata": {
        "id": "ea21574b",
        "outputId": "b3e40bad-48b7-4bf6-f55b-ff062ee2bf28"
      },
      "outputs": [
        {
          "name": "stdout",
          "output_type": "stream",
          "text": [
            "Compressed string is: b'x\\x9c\\xcbH\\xcd\\xc9\\xc9W(\\xcf/\\xcaIQ\\xcc \\x82\\r\\x00\\xbd[\\x11\\xf5'\n",
            "Decompressed string is: b'hello world!hello world!hello world!hello world!'\n"
          ]
        }
      ],
      "source": [
        "import zlib\n",
        "\n",
        "string = 'hello world!hello world!hello world!hello world!'\n",
        "\n",
        "compress_string = zlib.compress(bytes(s, 'utf-8'))\n",
        "\n",
        "print(f\"Compressed string is: {compress_string}\")\n",
        "print(f\"Decompressed string is: {zlib.decompress(compress_string)}\")"
      ]
    },
    {
      "cell_type": "markdown",
      "id": "2aeb595b",
      "metadata": {
        "id": "2aeb595b"
      },
      "source": [
        "---------------------------\n",
        "### 6. Please write a binary search function which searches an item in a sorted list. The function should return the index of element to be searched in the list."
      ]
    },
    {
      "cell_type": "code",
      "execution_count": null,
      "id": "53de78ed",
      "metadata": {
        "id": "53de78ed"
      },
      "outputs": [],
      "source": [
        "def binarySearch(list1, n):\n",
        "\n",
        "\n",
        "    low = 0\n",
        "    high = len(list1) - 1\n",
        "    mid = 0\n",
        "\n",
        "    while low <= high:\n",
        "        mid = (high + low) // 2\n",
        "        if list1[mid] < n:\n",
        "            low = mid + 1\n",
        "        elif list1[mid] > n:\n",
        "            high = mid - 1\n",
        "        else:\n",
        "            return mid\n",
        "    return -1"
      ]
    },
    {
      "cell_type": "code",
      "execution_count": null,
      "id": "ed216cc9",
      "metadata": {
        "id": "ed216cc9",
        "outputId": "af40f1d2-1ade-4109-e661-5916a2501dc0"
      },
      "outputs": [
        {
          "data": {
            "text/plain": [
              "4"
            ]
          },
          "execution_count": 46,
          "metadata": {},
          "output_type": "execute_result"
        }
      ],
      "source": [
        "sorted_list = [1, 4, 5, 12, 54, 678, 1235]\n",
        "\n",
        "binarySearch(sorted_list, 54)"
      ]
    },
    {
      "cell_type": "code",
      "execution_count": null,
      "id": "26ba3484",
      "metadata": {
        "id": "26ba3484"
      },
      "outputs": [],
      "source": []
    }
  ],
  "metadata": {
    "kernelspec": {
      "display_name": "Python 3 (ipykernel)",
      "language": "python",
      "name": "python3"
    },
    "language_info": {
      "codemirror_mode": {
        "name": "ipython",
        "version": 3
      },
      "file_extension": ".py",
      "mimetype": "text/x-python",
      "name": "python",
      "nbconvert_exporter": "python",
      "pygments_lexer": "ipython3",
      "version": "3.9.7"
    },
    "colab": {
      "provenance": []
    }
  },
  "nbformat": 4,
  "nbformat_minor": 5
}