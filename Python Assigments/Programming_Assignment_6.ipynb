{
  "cells": [
    {
      "cell_type": "markdown",
      "id": "84a41a9f",
      "metadata": {
        "id": "84a41a9f"
      },
      "source": [
        "# Programming Basic Assignment 6"
      ]
    },
    {
      "cell_type": "markdown",
      "id": "a4b40558",
      "metadata": {
        "id": "a4b40558"
      },
      "source": [
        "------------\n",
        "### 1. Write a Python Program to Display Fibonacci Sequence Using Recursion?"
      ]
    },
    {
      "cell_type": "code",
      "execution_count": null,
      "id": "e1b8420c",
      "metadata": {
        "id": "e1b8420c"
      },
      "outputs": [],
      "source": [
        "def fibo(a,b,c):\n",
        "    if c > 0:\n",
        "        c -= 1\n",
        "        print(a, end=' ')\n",
        "        temp = b\n",
        "        b = a + b\n",
        "        a = temp\n",
        "        fibo(a,b,c)"
      ]
    },
    {
      "cell_type": "code",
      "execution_count": null,
      "id": "4dee60ad",
      "metadata": {
        "id": "4dee60ad",
        "outputId": "1e0b0cc9-a5b3-4767-8f5e-c4c7dd429810"
      },
      "outputs": [
        {
          "name": "stdout",
          "output_type": "stream",
          "text": [
            "0 1 1 2 3 5 8 13 21 34 "
          ]
        }
      ],
      "source": [
        "fibo(0,1,10)"
      ]
    },
    {
      "cell_type": "markdown",
      "id": "d7a57f60",
      "metadata": {
        "id": "d7a57f60"
      },
      "source": [
        "-------------------\n",
        "### 2. Write a Python Program to Find Factorial of Number Using Recursion?"
      ]
    },
    {
      "cell_type": "code",
      "execution_count": null,
      "id": "2cdea8e5",
      "metadata": {
        "id": "2cdea8e5"
      },
      "outputs": [],
      "source": [
        "def fact(n):\n",
        "    if n == 0:\n",
        "        return 1\n",
        "    else:\n",
        "        return n*fact(n-1)"
      ]
    },
    {
      "cell_type": "code",
      "execution_count": null,
      "id": "fc5ec589",
      "metadata": {
        "id": "fc5ec589",
        "outputId": "b30315de-9f13-4055-fd55-6ffda1fee789"
      },
      "outputs": [
        {
          "data": {
            "text/plain": [
              "120"
            ]
          },
          "execution_count": 18,
          "metadata": {},
          "output_type": "execute_result"
        }
      ],
      "source": [
        "fact(5)"
      ]
    },
    {
      "cell_type": "code",
      "execution_count": null,
      "id": "9cc54ac2",
      "metadata": {
        "id": "9cc54ac2",
        "outputId": "266e3080-16fd-4668-fafc-927a18a4c6de"
      },
      "outputs": [
        {
          "data": {
            "text/plain": [
              "5040"
            ]
          },
          "execution_count": 19,
          "metadata": {},
          "output_type": "execute_result"
        }
      ],
      "source": [
        "fact(7)"
      ]
    },
    {
      "cell_type": "markdown",
      "id": "0357b86f",
      "metadata": {
        "id": "0357b86f"
      },
      "source": [
        "-------------\n",
        "### 3. Write a Python Program to calculate your Body Mass Index?"
      ]
    },
    {
      "cell_type": "code",
      "execution_count": null,
      "id": "ae7411ea",
      "metadata": {
        "id": "ae7411ea"
      },
      "outputs": [],
      "source": [
        "def bmi(height, weight):\n",
        "\n",
        "    return weight/(height*height)"
      ]
    },
    {
      "cell_type": "code",
      "execution_count": null,
      "id": "b1ef7685",
      "metadata": {
        "id": "b1ef7685",
        "outputId": "69f1dbd6-73f3-4e7e-c298-faae7cb433db"
      },
      "outputs": [
        {
          "data": {
            "text/plain": [
              "21.604938271604937"
            ]
          },
          "execution_count": 26,
          "metadata": {},
          "output_type": "execute_result"
        }
      ],
      "source": [
        "bmi(1.8, 70)"
      ]
    },
    {
      "cell_type": "markdown",
      "id": "96d344a4",
      "metadata": {
        "id": "96d344a4"
      },
      "source": [
        "--------------\n",
        "### 4. Write a Python Program to calculate the natural logarithm of any number?"
      ]
    },
    {
      "cell_type": "code",
      "execution_count": null,
      "id": "967b521c",
      "metadata": {
        "id": "967b521c",
        "outputId": "2dff83c4-d36f-4fcd-a73a-655ccfd1887b"
      },
      "outputs": [
        {
          "name": "stdout",
          "output_type": "stream",
          "text": [
            "Enter the number: 14\n",
            "2.6390573296152584\n"
          ]
        }
      ],
      "source": [
        "import math\n",
        "\n",
        "try:\n",
        "    num = int(input(\"Enter the number: \"))\n",
        "except Exception as e:\n",
        "    print(e)\n",
        "else:\n",
        "    print(math.log(num))"
      ]
    },
    {
      "cell_type": "markdown",
      "id": "11c0d92c",
      "metadata": {
        "id": "11c0d92c"
      },
      "source": [
        "------------\n",
        "### 5. Write a Python Program for cube sum of first n natural numbers?\n"
      ]
    },
    {
      "cell_type": "code",
      "execution_count": null,
      "id": "04a60dbe",
      "metadata": {
        "id": "04a60dbe"
      },
      "outputs": [],
      "source": [
        "def cubN(n):\n",
        "    return sum(range(n+1))**3"
      ]
    },
    {
      "cell_type": "code",
      "execution_count": null,
      "id": "289a7617",
      "metadata": {
        "id": "289a7617",
        "outputId": "82dbde76-9e5c-4c22-f79b-63c5c81d330b"
      },
      "outputs": [
        {
          "data": {
            "text/plain": [
              "216"
            ]
          },
          "execution_count": 38,
          "metadata": {},
          "output_type": "execute_result"
        }
      ],
      "source": [
        "cubN(3)"
      ]
    },
    {
      "cell_type": "code",
      "execution_count": null,
      "id": "7d76742d",
      "metadata": {
        "id": "7d76742d",
        "outputId": "03700965-e2f5-43e4-b570-315b3d1dcb75"
      },
      "outputs": [
        {
          "data": {
            "text/plain": [
              "1000"
            ]
          },
          "execution_count": 39,
          "metadata": {},
          "output_type": "execute_result"
        }
      ],
      "source": [
        "cubN(4)"
      ]
    },
    {
      "cell_type": "code",
      "execution_count": null,
      "id": "b85b9140",
      "metadata": {
        "id": "b85b9140"
      },
      "outputs": [],
      "source": []
    }
  ],
  "metadata": {
    "kernelspec": {
      "display_name": "Python 3 (ipykernel)",
      "language": "python",
      "name": "python3"
    },
    "language_info": {
      "codemirror_mode": {
        "name": "ipython",
        "version": 3
      },
      "file_extension": ".py",
      "mimetype": "text/x-python",
      "name": "python",
      "nbconvert_exporter": "python",
      "pygments_lexer": "ipython3",
      "version": "3.9.7"
    },
    "colab": {
      "provenance": []
    }
  },
  "nbformat": 4,
  "nbformat_minor": 5
}