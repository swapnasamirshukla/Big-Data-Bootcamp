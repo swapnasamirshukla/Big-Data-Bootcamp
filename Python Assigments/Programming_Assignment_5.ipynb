{
  "cells": [
    {
      "cell_type": "markdown",
      "id": "4ac9602a",
      "metadata": {
        "id": "4ac9602a"
      },
      "source": [
        "## Python Basic Programming Assignment - 5\n",
        "--------------\n"
      ]
    },
    {
      "cell_type": "markdown",
      "id": "fdaeee06",
      "metadata": {
        "id": "fdaeee06"
      },
      "source": [
        "### 1. Write a Python Program to Find LCM?"
      ]
    },
    {
      "cell_type": "code",
      "execution_count": null,
      "id": "2bbfde05",
      "metadata": {
        "id": "2bbfde05"
      },
      "outputs": [],
      "source": [
        "def lcm(a,b):\n",
        "    '''\n",
        "    Function which return the LCM of two number.\n",
        "    '''\n",
        "    high = a if a > b else b\n",
        "\n",
        "    while True:\n",
        "        if (high%a==0) and (high%b==0):\n",
        "            break\n",
        "        else:\n",
        "            high += 1\n",
        "\n",
        "    return high"
      ]
    },
    {
      "cell_type": "code",
      "execution_count": null,
      "id": "b1491e95",
      "metadata": {
        "id": "b1491e95",
        "outputId": "cfb20e79-6519-4494-b1d8-a98d69e58650"
      },
      "outputs": [
        {
          "data": {
            "text/plain": [
              "154"
            ]
          },
          "execution_count": 9,
          "metadata": {},
          "output_type": "execute_result"
        }
      ],
      "source": [
        "a = 22\n",
        "b = 7\n",
        "\n",
        "lcm(a, b)"
      ]
    },
    {
      "cell_type": "markdown",
      "id": "2f459cdf",
      "metadata": {
        "id": "2f459cdf"
      },
      "source": [
        "---------------------\n",
        "### 2. Write a Python Program to Find HCF?"
      ]
    },
    {
      "cell_type": "code",
      "execution_count": null,
      "id": "ca13cf0c",
      "metadata": {
        "id": "ca13cf0c"
      },
      "outputs": [],
      "source": [
        "def hcf(a, b):\n",
        "\n",
        "    low = a if a < b else b\n",
        "\n",
        "    for i in range(1, low+1):\n",
        "        if (a%i==0) and (b%i==0):\n",
        "            hcf = i\n",
        "\n",
        "    return hcf"
      ]
    },
    {
      "cell_type": "code",
      "execution_count": null,
      "id": "3e41d1af",
      "metadata": {
        "id": "3e41d1af",
        "outputId": "4316a0e2-829a-4b33-b673-13b11e1cb4f2"
      },
      "outputs": [
        {
          "data": {
            "text/plain": [
              "1"
            ]
          },
          "execution_count": 11,
          "metadata": {},
          "output_type": "execute_result"
        }
      ],
      "source": [
        "a = 53\n",
        "b = 33\n",
        "\n",
        "hcf(a, b)"
      ]
    },
    {
      "cell_type": "code",
      "execution_count": null,
      "id": "642b8fdc",
      "metadata": {
        "id": "642b8fdc",
        "outputId": "81d18b05-a0e1-4f1a-8be0-fa5d568d8105"
      },
      "outputs": [
        {
          "data": {
            "text/plain": [
              "4"
            ]
          },
          "execution_count": 15,
          "metadata": {},
          "output_type": "execute_result"
        }
      ],
      "source": [
        "a = 52\n",
        "b = 24\n",
        "\n",
        "hcf(a, b)"
      ]
    },
    {
      "cell_type": "markdown",
      "id": "d2c29370",
      "metadata": {
        "id": "d2c29370"
      },
      "source": [
        "---------------\n",
        "### 3. Write a Python Program to Convert Decimal to Binary, Octal and Hexadecimal?"
      ]
    },
    {
      "cell_type": "code",
      "execution_count": null,
      "id": "f9fac93a",
      "metadata": {
        "id": "f9fac93a"
      },
      "outputs": [],
      "source": [
        "def conversion(num):\n",
        "    print(\"Binary:      \", bin(num))\n",
        "    print(\"Octal:       \", oct(num))\n",
        "    print(\"Hexadecimal: \", hex(num))"
      ]
    },
    {
      "cell_type": "code",
      "execution_count": null,
      "id": "f3dd6f8d",
      "metadata": {
        "id": "f3dd6f8d",
        "outputId": "fc1fa4e5-43c7-497c-a988-eca6ab6c17fe"
      },
      "outputs": [
        {
          "name": "stdout",
          "output_type": "stream",
          "text": [
            "Binary:       0b111\n",
            "Octal:        0o7\n",
            "Hexadecimal:  0x7\n"
          ]
        }
      ],
      "source": [
        "conversion(7)"
      ]
    },
    {
      "cell_type": "code",
      "execution_count": null,
      "id": "724c2e07",
      "metadata": {
        "id": "724c2e07",
        "outputId": "05c1f83b-6628-4fba-b4cc-c9cd0674d7d6"
      },
      "outputs": [
        {
          "name": "stdout",
          "output_type": "stream",
          "text": [
            "Binary:       0b101110001\n",
            "Octal:        0o561\n",
            "Hexadecimal:  0x171\n"
          ]
        }
      ],
      "source": [
        "conversion(369)"
      ]
    },
    {
      "cell_type": "markdown",
      "id": "2a16c5fd",
      "metadata": {
        "id": "2a16c5fd"
      },
      "source": [
        "---------------------\n",
        "### 4. Write a Python Program To Find ASCII value of a character?"
      ]
    },
    {
      "cell_type": "code",
      "execution_count": null,
      "id": "c5164be3",
      "metadata": {
        "id": "c5164be3",
        "outputId": "d587ca57-5a13-4a19-8c2c-640cc61048af"
      },
      "outputs": [
        {
          "name": "stdout",
          "output_type": "stream",
          "text": [
            "Enter a character: A\n",
            "ASCII value of A is 65\n"
          ]
        }
      ],
      "source": [
        "try:\n",
        "    char = input(\"Enter a character: \")\n",
        "    ASCII = ord(char)\n",
        "    print(\"ASCII value of {} is {}\".format(char, ASCII))\n",
        "except Exception as e:\n",
        "    print(e)"
      ]
    },
    {
      "cell_type": "markdown",
      "id": "226778a0",
      "metadata": {
        "id": "226778a0"
      },
      "source": [
        "----------------\n",
        "### 5. Write a Python Program to Make a Simple Calculator with 4 basic mathematical operations?"
      ]
    },
    {
      "cell_type": "code",
      "execution_count": null,
      "id": "4d0c1a4d",
      "metadata": {
        "id": "4d0c1a4d",
        "outputId": "37907e7c-02c7-46eb-dc81-b81aa0c2a169"
      },
      "outputs": [
        {
          "name": "stdout",
          "output_type": "stream",
          "text": [
            "Enter first number: 189\n",
            "Enter second number: 9\n",
            "\n",
            "For addition:       +\n",
            "For subtraction:    -\n",
            "For multiplicaton:  *\n",
            "For division:       /\n",
            "For Exit:            X\n",
            "\n",
            "Enter the choice for mathematical operations: /\n",
            "\n",
            "Result:  21.0\n",
            "Enter first number: 123\n",
            "Enter second number: 3\n",
            "\n",
            "For addition:       +\n",
            "For subtraction:    -\n",
            "For multiplicaton:  *\n",
            "For division:       /\n",
            "For Exit:            X\n",
            "\n",
            "Enter the choice for mathematical operations: *\n",
            "\n",
            "Result:  369\n",
            "Enter first number: 12\n",
            "Enter second number: 3\n",
            "\n",
            "For addition:       +\n",
            "For subtraction:    -\n",
            "For multiplicaton:  *\n",
            "For division:       /\n",
            "For Exit:            X\n",
            "\n",
            "Enter the choice for mathematical operations: X\n"
          ]
        }
      ],
      "source": [
        "try:\n",
        "\n",
        "    while True:\n",
        "        num1 = int(input(\"Enter first number: \"))\n",
        "        num2 = int(input(\"Enter second number: \"))\n",
        "\n",
        "        print(\"\\nFor addition:       +\")\n",
        "        print(\"For subtraction:    -\")\n",
        "        print(\"For multiplicaton:  *\")\n",
        "        print(\"For division:       /\")\n",
        "        print(\"For Exit:            X\")\n",
        "\n",
        "        ch = input(\"\\nEnter the choice for mathematical operations: \")\n",
        "\n",
        "\n",
        "        if ch == '+':\n",
        "            output = num1 + num2\n",
        "        elif ch == '-':\n",
        "            output = num1 - num2\n",
        "        elif ch == '*':\n",
        "            output = num1 * num2\n",
        "        elif ch == '/':\n",
        "            output = num1 / num2\n",
        "\n",
        "        if ch == 'X' or ch == 'x':\n",
        "            break\n",
        "\n",
        "        print(\"\\nResult: \", output)\n",
        "\n",
        "\n",
        "\n",
        "except Exception as e:\n",
        "    print(e)"
      ]
    },
    {
      "cell_type": "code",
      "execution_count": null,
      "id": "fa01d572",
      "metadata": {
        "id": "fa01d572"
      },
      "outputs": [],
      "source": []
    }
  ],
  "metadata": {
    "kernelspec": {
      "display_name": "Python 3 (ipykernel)",
      "language": "python",
      "name": "python3"
    },
    "language_info": {
      "codemirror_mode": {
        "name": "ipython",
        "version": 3
      },
      "file_extension": ".py",
      "mimetype": "text/x-python",
      "name": "python",
      "nbconvert_exporter": "python",
      "pygments_lexer": "ipython3",
      "version": "3.9.7"
    },
    "colab": {
      "provenance": []
    }
  },
  "nbformat": 4,
  "nbformat_minor": 5
}