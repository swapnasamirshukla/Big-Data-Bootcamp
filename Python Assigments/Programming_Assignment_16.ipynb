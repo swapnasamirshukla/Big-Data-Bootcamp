{
  "cells": [
    {
      "cell_type": "markdown",
      "id": "e304dc88",
      "metadata": {
        "id": "e304dc88"
      },
      "source": [
        "## Python Basic Programming Assignment 16\n",
        "---------------------"
      ]
    },
    {
      "cell_type": "markdown",
      "id": "d82eeee0",
      "metadata": {
        "id": "d82eeee0"
      },
      "source": [
        "### 1. Write a function that stutters a word as if someone is struggling to read it. The first two letters are repeated twice with an ellipsis ... and space after each, and then the word is pronounced with a question mark ?. Examples stutter('incredible') ➞ 'in... in... incredible?' stutter('enthusiastic') ➞ 'en... en... enthusiastic?' stutter('outstanding') ➞ 'ou... ou... outstanding?'\n",
        "\n",
        "### Hint :- Assume all input is in lower case and at least two characters long."
      ]
    },
    {
      "cell_type": "code",
      "execution_count": null,
      "id": "8633a7b5",
      "metadata": {
        "id": "8633a7b5",
        "outputId": "9aa3db33-cd0e-46f5-9d14-93ca1356c352"
      },
      "outputs": [
        {
          "name": "stdout",
          "output_type": "stream",
          "text": [
            "in... in... incredible?\n",
            "en... en... enthusiastic?\n",
            "ou... ou... outstanding?\n"
          ]
        }
      ],
      "source": [
        "def stutter(word:str):\n",
        "    print(f\"{word[:2]}... {word[:2]}... {word}?\")\n",
        "\n",
        "stutter('incredible')\n",
        "stutter('enthusiastic')\n",
        "stutter('outstanding')"
      ]
    },
    {
      "cell_type": "markdown",
      "id": "47e1bd41",
      "metadata": {
        "id": "47e1bd41"
      },
      "source": [
        "--------------------\n",
        "### 2. Create a function that takes an angle in radians and returns the corresponding angle in degrees rounded to one decimal place."
      ]
    },
    {
      "cell_type": "code",
      "execution_count": null,
      "id": "187ccb58",
      "metadata": {
        "id": "187ccb58",
        "outputId": "415ea3c6-782a-46c6-d655-091b41e8df92"
      },
      "outputs": [
        {
          "name": "stdout",
          "output_type": "stream",
          "text": [
            "57.3\n",
            "1145.9\n",
            "2864.8\n"
          ]
        }
      ],
      "source": [
        "def radians_to_degrees(rads):\n",
        "    return round(57.295779513 * rads, 1)\n",
        "\n",
        "print(radians_to_degrees(1))\n",
        "print(radians_to_degrees(20))\n",
        "print(radians_to_degrees(50))"
      ]
    },
    {
      "cell_type": "markdown",
      "id": "07cad4d9",
      "metadata": {
        "id": "07cad4d9"
      },
      "source": [
        "---------------\n",
        "### 3. In this challenge, establish if a given integer num is a Curzon number. If 1 plus 2 elevated to num is exactly divisible by 1 plus 2 multiplied by num, then num is a Curzon number. Given a non-negative integer num, implement a function that returns True if num is a Curzon number, or False otherwise."
      ]
    },
    {
      "cell_type": "code",
      "execution_count": null,
      "id": "99788170",
      "metadata": {
        "id": "99788170",
        "outputId": "bc570356-4dc4-4bcd-e501-d78249e898a5"
      },
      "outputs": [
        {
          "name": "stdout",
          "output_type": "stream",
          "text": [
            "True\n",
            "False\n",
            "True\n"
          ]
        }
      ],
      "source": [
        "def is_curzon(n):\n",
        "\n",
        "    if (1 + 2 ** n) % (1 + 2*n) == 0:\n",
        "        return True\n",
        "\n",
        "    return False\n",
        "\n",
        "print(is_curzon(5)) # True\n",
        "print(is_curzon(10)) # False\n",
        "print(is_curzon(14)) # True"
      ]
    },
    {
      "cell_type": "markdown",
      "id": "cfad2cfc",
      "metadata": {
        "id": "cfad2cfc"
      },
      "source": [
        "--------\n",
        "### 4. Given the side length x find the area of a hexagon."
      ]
    },
    {
      "cell_type": "code",
      "execution_count": null,
      "id": "1bfe06dd",
      "metadata": {
        "id": "1bfe06dd",
        "outputId": "2fc29f18-564e-4df9-a72d-5d0b994d264d"
      },
      "outputs": [
        {
          "name": "stdout",
          "output_type": "stream",
          "text": [
            "2.6\n",
            "10.4\n",
            "23.4\n"
          ]
        }
      ],
      "source": [
        "import math\n",
        "\n",
        "def area_of_hexagon(length):\n",
        "    area =  3 * math.sqrt(3) * 0.5 * length * length\n",
        "    return round(area, 1)\n",
        "\n",
        "print(area_of_hexagon(1))\n",
        "print(area_of_hexagon(2))\n",
        "print(area_of_hexagon(3))"
      ]
    },
    {
      "cell_type": "markdown",
      "id": "dbc79e02",
      "metadata": {
        "id": "dbc79e02"
      },
      "source": [
        "-------------\n",
        "### 5. Create a function that returns a base-2 (binary) representation of a base-10 (decimal) string number. To convert is simple: ((2) means base-2 and (10) means base-10) 010101001(2) = 1 + 8 + 32 + 128."
      ]
    },
    {
      "cell_type": "code",
      "execution_count": null,
      "id": "197946a8",
      "metadata": {
        "id": "197946a8",
        "outputId": "13392d30-497b-48bf-839d-5d8f9ff26227"
      },
      "outputs": [
        {
          "name": "stdout",
          "output_type": "stream",
          "text": [
            "1\n",
            "101\n",
            "1010\n"
          ]
        }
      ],
      "source": [
        "def binary(n):\n",
        "    return \"{0:b}\".format(int(n))\n",
        "\n",
        "print(binary(1))\n",
        "print(binary(5))\n",
        "print(binary(10))"
      ]
    },
    {
      "cell_type": "code",
      "execution_count": null,
      "id": "88624c40",
      "metadata": {
        "id": "88624c40"
      },
      "outputs": [],
      "source": []
    }
  ],
  "metadata": {
    "kernelspec": {
      "display_name": "Python 3 (ipykernel)",
      "language": "python",
      "name": "python3"
    },
    "language_info": {
      "codemirror_mode": {
        "name": "ipython",
        "version": 3
      },
      "file_extension": ".py",
      "mimetype": "text/x-python",
      "name": "python",
      "nbconvert_exporter": "python",
      "pygments_lexer": "ipython3",
      "version": "3.9.7"
    },
    "colab": {
      "provenance": []
    }
  },
  "nbformat": 4,
  "nbformat_minor": 5
}