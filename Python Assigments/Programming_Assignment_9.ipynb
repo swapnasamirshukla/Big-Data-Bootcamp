{
  "cells": [
    {
      "cell_type": "markdown",
      "id": "47b9bb99",
      "metadata": {
        "id": "47b9bb99"
      },
      "source": [
        "## Programming Assignment_9\n",
        "----------------"
      ]
    },
    {
      "cell_type": "markdown",
      "id": "c725f7a9",
      "metadata": {
        "id": "c725f7a9"
      },
      "source": [
        "### 1. Write a Python program to check if the given number is a Disarium Number?\n",
        "##### ans:"
      ]
    },
    {
      "cell_type": "code",
      "execution_count": null,
      "id": "00495e5f",
      "metadata": {
        "id": "00495e5f"
      },
      "outputs": [],
      "source": [
        "def task1(num):\n",
        "\n",
        "    try:\n",
        "        if type(num) != int:\n",
        "            raise Exception(\"Not an integer\")\n",
        "\n",
        "        num = str(num)\n",
        "        total = 0\n",
        "        for i in range(0, len(num)):\n",
        "            n = int(num[i])\n",
        "            n = n**(i+1)\n",
        "            total = total + n\n",
        "\n",
        "        if total == int(num):\n",
        "            return True\n",
        "        else:\n",
        "            return False\n",
        "\n",
        "    except Exception as e:\n",
        "        print(e)\n",
        ""
      ]
    },
    {
      "cell_type": "code",
      "execution_count": null,
      "id": "66cea9d7",
      "metadata": {
        "id": "66cea9d7",
        "outputId": "9e018de3-7ade-4368-b267-5cf893f261e1"
      },
      "outputs": [
        {
          "data": {
            "text/plain": [
              "False"
            ]
          },
          "execution_count": 49,
          "metadata": {},
          "output_type": "execute_result"
        }
      ],
      "source": [
        "task1(147)"
      ]
    },
    {
      "cell_type": "code",
      "execution_count": null,
      "id": "eb99b411",
      "metadata": {
        "id": "eb99b411",
        "outputId": "293a26cf-78ef-44ac-e8f5-bc0813f3f6f8"
      },
      "outputs": [
        {
          "data": {
            "text/plain": [
              "True"
            ]
          },
          "execution_count": 52,
          "metadata": {},
          "output_type": "execute_result"
        }
      ],
      "source": [
        "task1(135)"
      ]
    },
    {
      "cell_type": "markdown",
      "id": "f0064401",
      "metadata": {
        "id": "f0064401"
      },
      "source": [
        "---------------------------\n",
        "### 2. Write a Python program to print all disarium numbers between 1 to 100?\n",
        "##### ans:"
      ]
    },
    {
      "cell_type": "code",
      "execution_count": null,
      "id": "78e6ba38",
      "metadata": {
        "id": "78e6ba38",
        "outputId": "22d4959e-10c0-42af-ee1e-2b05666cc54b"
      },
      "outputs": [
        {
          "name": "stdout",
          "output_type": "stream",
          "text": [
            "1 2 3 4 5 6 7 8 9 89 "
          ]
        }
      ],
      "source": [
        "for i in range(1, 101):\n",
        "    if task1(i) == True:\n",
        "        print(i, end = ' ')"
      ]
    },
    {
      "cell_type": "markdown",
      "id": "31df1e4a",
      "metadata": {
        "id": "31df1e4a"
      },
      "source": [
        "---------------------------\n",
        "### 3. Write a Python program to check if the given number is Happy Number?\n",
        "##### ans:"
      ]
    },
    {
      "cell_type": "code",
      "execution_count": null,
      "id": "c274693d",
      "metadata": {
        "id": "c274693d"
      },
      "outputs": [],
      "source": [
        "def task3(num):\n",
        "\n",
        "    res = num;\n",
        "    def isHappy(num):\n",
        "        r = 0;\n",
        "        s = 0\n",
        "        while(num > 0):\n",
        "            r = num%10\n",
        "            s += r**2\n",
        "            num //= 10\n",
        "        return s\n",
        "\n",
        "    while(res != 1 and res != 4):\n",
        "        res = isHappy(res)\n",
        "\n",
        "    if(res == 1):\n",
        "        return True\n",
        "    elif(res == 4):\n",
        "        return False"
      ]
    },
    {
      "cell_type": "code",
      "execution_count": null,
      "id": "ccd2f0ac",
      "metadata": {
        "id": "ccd2f0ac",
        "outputId": "6a1d1c46-b486-43eb-cc1e-cb7bfa84a017"
      },
      "outputs": [
        {
          "data": {
            "text/plain": [
              "True"
            ]
          },
          "execution_count": 65,
          "metadata": {},
          "output_type": "execute_result"
        }
      ],
      "source": [
        "task3(100)"
      ]
    },
    {
      "cell_type": "code",
      "execution_count": null,
      "id": "e85174db",
      "metadata": {
        "id": "e85174db",
        "outputId": "987830bd-c9a4-4f80-b078-0cfb0ecd3689"
      },
      "outputs": [
        {
          "data": {
            "text/plain": [
              "False"
            ]
          },
          "execution_count": 66,
          "metadata": {},
          "output_type": "execute_result"
        }
      ],
      "source": [
        "task3(4)"
      ]
    },
    {
      "cell_type": "markdown",
      "id": "51b265e3",
      "metadata": {
        "id": "51b265e3"
      },
      "source": [
        "---------------------------\n",
        "### 4. Write a Python program to print all happy numbers between 1 and 100?\n",
        "##### ans:"
      ]
    },
    {
      "cell_type": "code",
      "execution_count": null,
      "id": "dd776994",
      "metadata": {
        "id": "dd776994",
        "outputId": "731124ca-f6fd-4741-9aed-22426969e45c"
      },
      "outputs": [
        {
          "name": "stdout",
          "output_type": "stream",
          "text": [
            "1 7 10 13 19 23 28 31 32 44 49 68 70 79 82 86 91 94 97 100 "
          ]
        }
      ],
      "source": [
        "for i in range(1, 101):\n",
        "    if task3(i) == True:\n",
        "        print(i, end = ' ')"
      ]
    },
    {
      "cell_type": "markdown",
      "id": "6a190ee0",
      "metadata": {
        "id": "6a190ee0"
      },
      "source": [
        "---------------------------\n",
        "### 5. Write a Python program to determine whether the given number is a Harshad Number?\n",
        "##### ans:"
      ]
    },
    {
      "cell_type": "code",
      "execution_count": null,
      "id": "9a8d5472",
      "metadata": {
        "id": "9a8d5472"
      },
      "outputs": [],
      "source": [
        "def task5(num):\n",
        "    temp = num\n",
        "    total = 0\n",
        "    while (temp > 0):\n",
        "        total = total + (temp%10)\n",
        "        temp = temp//10\n",
        "\n",
        "    if num%total==0:\n",
        "        print(\"Harshad Number\")\n",
        "    else:\n",
        "        print(\"Not Harshad Number\")"
      ]
    },
    {
      "cell_type": "code",
      "execution_count": null,
      "id": "41926598",
      "metadata": {
        "id": "41926598",
        "outputId": "b49de8f2-2dc6-4a5d-86b6-14722c002c67"
      },
      "outputs": [
        {
          "name": "stdout",
          "output_type": "stream",
          "text": [
            "Harshad Number\n"
          ]
        }
      ],
      "source": [
        "task5(156)"
      ]
    },
    {
      "cell_type": "code",
      "execution_count": null,
      "id": "1d1e9a6f",
      "metadata": {
        "id": "1d1e9a6f",
        "outputId": "c7d09262-ff5c-4d76-8a3f-67e70ebf3608"
      },
      "outputs": [
        {
          "name": "stdout",
          "output_type": "stream",
          "text": [
            "Not Harshad Number\n"
          ]
        }
      ],
      "source": [
        "task5(113)"
      ]
    },
    {
      "cell_type": "markdown",
      "id": "7a7ea92e",
      "metadata": {
        "id": "7a7ea92e"
      },
      "source": [
        "---------------------------\n",
        "### 6. Write a Python program to print all pronic numbers between 1 and 100?\n",
        "##### ans:"
      ]
    },
    {
      "cell_type": "code",
      "execution_count": null,
      "id": "936ca4b3",
      "metadata": {
        "id": "936ca4b3",
        "outputId": "dc6c1106-3ab1-4cdc-e7a0-8d8116d93255"
      },
      "outputs": [
        {
          "name": "stdout",
          "output_type": "stream",
          "text": [
            "0 2 6 12 20 30 42 56 72 90 "
          ]
        }
      ],
      "source": [
        "i = 0\n",
        "while True:\n",
        "    pronicNum = i*(i+1)\n",
        "    i = i + 1\n",
        "    if pronicNum > 100:\n",
        "        break\n",
        "    print(pronicNum, end = ' ')\n",
        ""
      ]
    },
    {
      "cell_type": "code",
      "execution_count": null,
      "id": "05a27075",
      "metadata": {
        "id": "05a27075"
      },
      "outputs": [],
      "source": []
    }
  ],
  "metadata": {
    "kernelspec": {
      "display_name": "Python 3 (ipykernel)",
      "language": "python",
      "name": "python3"
    },
    "language_info": {
      "codemirror_mode": {
        "name": "ipython",
        "version": 3
      },
      "file_extension": ".py",
      "mimetype": "text/x-python",
      "name": "python",
      "nbconvert_exporter": "python",
      "pygments_lexer": "ipython3",
      "version": "3.9.7"
    },
    "colab": {
      "provenance": []
    }
  },
  "nbformat": 4,
  "nbformat_minor": 5
}