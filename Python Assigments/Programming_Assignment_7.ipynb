{
  "cells": [
    {
      "cell_type": "markdown",
      "id": "35297a20",
      "metadata": {
        "id": "35297a20"
      },
      "source": [
        "## Programming Basic Assignment 7"
      ]
    },
    {
      "cell_type": "markdown",
      "id": "27349114",
      "metadata": {
        "id": "27349114"
      },
      "source": [
        "------------------\n",
        "### 1. Write a Python Program to find sum of array?\n"
      ]
    },
    {
      "cell_type": "code",
      "execution_count": null,
      "id": "cfaf637b",
      "metadata": {
        "id": "cfaf637b",
        "outputId": "4b637e28-f154-4d73-e196-61ac4c62bb7b"
      },
      "outputs": [
        {
          "name": "stdout",
          "output_type": "stream",
          "text": [
            "Sum of array:  197\n"
          ]
        }
      ],
      "source": [
        "l = [1,2,3,-412, 123, 369, 111]\n",
        "\n",
        "arraySum = 0\n",
        "for i in l:\n",
        "    arraySum += i\n",
        "\n",
        "print(\"Sum of array: \", arraySum)"
      ]
    },
    {
      "cell_type": "markdown",
      "id": "171a980d",
      "metadata": {
        "id": "171a980d"
      },
      "source": [
        "-----------------\n",
        "### 2. Write a Python Program to find largest element in an array?\n"
      ]
    },
    {
      "cell_type": "code",
      "execution_count": null,
      "id": "87fe5169",
      "metadata": {
        "id": "87fe5169",
        "outputId": "54dc04a3-7312-4f93-e4be-a86f4dd69b70"
      },
      "outputs": [
        {
          "data": {
            "text/plain": [
              "369"
            ]
          },
          "execution_count": 5,
          "metadata": {},
          "output_type": "execute_result"
        }
      ],
      "source": [
        "l = [1,2,3,-412, 123, 369, 111]\n",
        "\n",
        "arrayMax = -9999999999999\n",
        "\n",
        "for i in l:\n",
        "    if i > arrayMax:\n",
        "        arrayMax = i\n",
        "\n",
        "arrayMax"
      ]
    },
    {
      "cell_type": "markdown",
      "id": "21613246",
      "metadata": {
        "id": "21613246"
      },
      "source": [
        "----------------\n",
        "### 3. Write a Python Program for array rotation?"
      ]
    },
    {
      "cell_type": "code",
      "execution_count": null,
      "id": "ce2027d5",
      "metadata": {
        "scrolled": true,
        "id": "ce2027d5",
        "outputId": "fe1e9480-e972-422a-f9b0-25761b51e7ae"
      },
      "outputs": [
        {
          "name": "stdout",
          "output_type": "stream",
          "text": [
            "Rotated array:\n",
            "[111, 369, 123, -412, 3, 2, 1]\n"
          ]
        }
      ],
      "source": [
        "l = [1,2,3,-412, 123, 369, 111]\n",
        "\n",
        "print(\"Rotated array:\")\n",
        "print(l[::-1])"
      ]
    },
    {
      "cell_type": "markdown",
      "id": "3e52d939",
      "metadata": {
        "id": "3e52d939"
      },
      "source": [
        "-------------\n",
        "### 4. Write a Python Program to Split the array and add the first part to the end?\n"
      ]
    },
    {
      "cell_type": "code",
      "execution_count": null,
      "id": "1bb79098",
      "metadata": {
        "id": "1bb79098"
      },
      "outputs": [],
      "source": [
        "def splitAdd(l, split):\n",
        "    '''\n",
        "    l = list\n",
        "    split = splitIndex\n",
        "    '''\n",
        "    out = []\n",
        "    for i in range(len(l)):\n",
        "        index = (i+len(l)+split)%len(l)\n",
        "        out.append(l[index])\n",
        "\n",
        "    return out"
      ]
    },
    {
      "cell_type": "code",
      "execution_count": null,
      "id": "b6d4f9a4",
      "metadata": {
        "id": "b6d4f9a4",
        "outputId": "e497edac-86f4-4ed3-dc82-0e292d29fb31"
      },
      "outputs": [
        {
          "data": {
            "text/plain": [
              "[3, -412, 123, 369, 111, 1, 2]"
            ]
          },
          "execution_count": 23,
          "metadata": {},
          "output_type": "execute_result"
        }
      ],
      "source": [
        "l = [1,2,3,-412, 123, 369, 111]\n",
        "splitIndex = 2\n",
        "splitAdd(l, splitIndex)"
      ]
    },
    {
      "cell_type": "markdown",
      "id": "aa375779",
      "metadata": {
        "id": "aa375779"
      },
      "source": [
        "--------------\n",
        "### 5. Write a Python Program to check if given array is Monotonic?"
      ]
    },
    {
      "cell_type": "code",
      "execution_count": null,
      "id": "725c2a5a",
      "metadata": {
        "id": "725c2a5a"
      },
      "outputs": [],
      "source": [
        "def monotonicCheck(array):\n",
        "    flag = True\n",
        "\n",
        "    if array[0] >= array[len(array)-1]:\n",
        "        for i in range(len(array)-2):\n",
        "            if array[i] < array[i+1]:\n",
        "                flag = False\n",
        "    else:\n",
        "        for i in range(len(array)-2):\n",
        "            if array[i] > array[i+1]:\n",
        "                flag = False\n",
        "\n",
        "    return flag"
      ]
    },
    {
      "cell_type": "code",
      "execution_count": null,
      "id": "fe90a579",
      "metadata": {
        "id": "fe90a579",
        "outputId": "5dd609d0-1e72-45ea-bcbf-7cb2dacaff87"
      },
      "outputs": [
        {
          "data": {
            "text/plain": [
              "True"
            ]
          },
          "execution_count": 28,
          "metadata": {},
          "output_type": "execute_result"
        }
      ],
      "source": [
        "array = [1,2,3,56, 124, 369]\n",
        "\n",
        "monotonicCheck(array)"
      ]
    },
    {
      "cell_type": "code",
      "execution_count": null,
      "id": "1fbbfb98",
      "metadata": {
        "id": "1fbbfb98",
        "outputId": "ca7a2755-60f8-44ec-af25-20f145f20608"
      },
      "outputs": [
        {
          "data": {
            "text/plain": [
              "True"
            ]
          },
          "execution_count": 29,
          "metadata": {},
          "output_type": "execute_result"
        }
      ],
      "source": [
        "array = [123,43, 12, 2, -23,-345]\n",
        "monotonicCheck(array)"
      ]
    },
    {
      "cell_type": "code",
      "execution_count": null,
      "id": "0f0bd296",
      "metadata": {
        "id": "0f0bd296",
        "outputId": "7bf669ca-f8ca-42ba-aa7f-d336362445be"
      },
      "outputs": [
        {
          "data": {
            "text/plain": [
              "False"
            ]
          },
          "execution_count": 30,
          "metadata": {},
          "output_type": "execute_result"
        }
      ],
      "source": [
        "array = [123,-23, 783, -98,0, 12]\n",
        "monotonicCheck(array)"
      ]
    },
    {
      "cell_type": "code",
      "execution_count": null,
      "id": "809e09e1",
      "metadata": {
        "id": "809e09e1"
      },
      "outputs": [],
      "source": []
    }
  ],
  "metadata": {
    "kernelspec": {
      "display_name": "Python 3 (ipykernel)",
      "language": "python",
      "name": "python3"
    },
    "language_info": {
      "codemirror_mode": {
        "name": "ipython",
        "version": 3
      },
      "file_extension": ".py",
      "mimetype": "text/x-python",
      "name": "python",
      "nbconvert_exporter": "python",
      "pygments_lexer": "ipython3",
      "version": "3.9.7"
    },
    "colab": {
      "provenance": []
    }
  },
  "nbformat": 4,
  "nbformat_minor": 5
}